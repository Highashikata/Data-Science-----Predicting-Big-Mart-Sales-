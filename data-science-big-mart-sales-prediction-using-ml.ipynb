{
 "cells": [
  {
   "cell_type": "code",
   "execution_count": 1,
   "id": "e85b618d",
   "metadata": {
    "_cell_guid": "b1076dfc-b9ad-4769-8c92-a6c4dae69d19",
    "_uuid": "8f2839f25d086af736a60e9eeb907d3b93b6e0e5",
    "execution": {
     "iopub.execute_input": "2022-06-02T14:04:38.177564Z",
     "iopub.status.busy": "2022-06-02T14:04:38.176770Z",
     "iopub.status.idle": "2022-06-02T14:04:38.204208Z",
     "shell.execute_reply": "2022-06-02T14:04:38.203134Z"
    },
    "papermill": {
     "duration": 0.050505,
     "end_time": "2022-06-02T14:04:38.207548",
     "exception": false,
     "start_time": "2022-06-02T14:04:38.157043",
     "status": "completed"
    },
    "tags": []
   },
   "outputs": [
    {
     "name": "stdout",
     "output_type": "stream",
     "text": [
      "/kaggle/input/bigmart-sales-data/Train.csv\n",
      "/kaggle/input/bigmart-sales-data/Test.csv\n"
     ]
    }
   ],
   "source": [
    "# This Python 3 environment comes with many helpful analytics libraries installed\n",
    "# It is defined by the kaggle/python Docker image: https://github.com/kaggle/docker-python\n",
    "# For example, here's several helpful packages to load\n",
    "\n",
    "import numpy as np # linear algebra\n",
    "import pandas as pd # data processing, CSV file I/O (e.g. pd.read_csv)\n",
    "\n",
    "# Input data files are available in the read-only \"../input/\" directory\n",
    "# For example, running this (by clicking run or pressing Shift+Enter) will list all files under the input directory\n",
    "\n",
    "import os\n",
    "for dirname, _, filenames in os.walk('/kaggle/input'):\n",
    "    for filename in filenames:\n",
    "        print(os.path.join(dirname, filename))\n",
    "\n",
    "# You can write up to 20GB to the current directory (/kaggle/working/) that gets preserved as output when you create a version using \"Save & Run All\" \n",
    "# You can also write temporary files to /kaggle/temp/, but they won't be saved outside of the current session"
   ]
  },
  {
   "cell_type": "markdown",
   "id": "2a993115",
   "metadata": {
    "papermill": {
     "duration": 0.016253,
     "end_time": "2022-06-02T14:04:38.240009",
     "exception": false,
     "start_time": "2022-06-02T14:04:38.223756",
     "status": "completed"
    },
    "tags": []
   },
   "source": [
    "#### **Data Science Project : Predicting Big Mart Sales using Machine Learning Techniques**"
   ]
  },
  {
   "cell_type": "markdown",
   "id": "dad1044b",
   "metadata": {
    "papermill": {
     "duration": 0.015612,
     "end_time": "2022-06-02T14:04:38.272109",
     "exception": false,
     "start_time": "2022-06-02T14:04:38.256497",
     "status": "completed"
    },
    "tags": []
   },
   "source": [
    "Big Mart is one stop shopping center and free marketplace.\n",
    "We also wholesale fashion accessories, gold or silver plated chain necklaces,\n",
    "bodyjewelry, sunglasses, wallets, scarves, and belts.\n",
    "\n",
    "The objectif of this project is to predict the outcome of sales of the big mart grocery stores."
   ]
  },
  {
   "cell_type": "markdown",
   "id": "e74dfa96",
   "metadata": {
    "papermill": {
     "duration": 0.015524,
     "end_time": "2022-06-02T14:04:38.303710",
     "exception": false,
     "start_time": "2022-06-02T14:04:38.288186",
     "status": "completed"
    },
    "tags": []
   },
   "source": [
    "**Step 1: Importing the Data**"
   ]
  },
  {
   "cell_type": "code",
   "execution_count": 2,
   "id": "57fb1278",
   "metadata": {
    "execution": {
     "iopub.execute_input": "2022-06-02T14:04:38.338530Z",
     "iopub.status.busy": "2022-06-02T14:04:38.337775Z",
     "iopub.status.idle": "2022-06-02T14:04:40.260690Z",
     "shell.execute_reply": "2022-06-02T14:04:40.259179Z"
    },
    "papermill": {
     "duration": 1.944777,
     "end_time": "2022-06-02T14:04:40.264043",
     "exception": false,
     "start_time": "2022-06-02T14:04:38.319266",
     "status": "completed"
    },
    "tags": []
   },
   "outputs": [],
   "source": [
    "### Importing the Useful libraries\n",
    "import pandas as pd\n",
    "import matplotlib.pyplot as plt\n",
    "import numpy as np\n",
    "import seaborn as sns\n",
    "\n",
    "### Importing ML Libraries\n",
    "from sklearn.model_selection import train_test_split\n",
    "from xgboost import XGBRegressor\n",
    "from sklearn.linear_model import LinearRegression\n",
    "\n",
    "from sklearn import metrics\n",
    "%matplotlib inline"
   ]
  },
  {
   "cell_type": "code",
   "execution_count": 3,
   "id": "d13d0fc2",
   "metadata": {
    "execution": {
     "iopub.execute_input": "2022-06-02T14:04:40.296877Z",
     "iopub.status.busy": "2022-06-02T14:04:40.295960Z",
     "iopub.status.idle": "2022-06-02T14:04:40.347201Z",
     "shell.execute_reply": "2022-06-02T14:04:40.346434Z"
    },
    "papermill": {
     "duration": 0.071626,
     "end_time": "2022-06-02T14:04:40.350367",
     "exception": false,
     "start_time": "2022-06-02T14:04:40.278741",
     "status": "completed"
    },
    "tags": []
   },
   "outputs": [],
   "source": [
    "raw_data = pd.read_csv(\"../input/bigmart-sales-data/Train.csv\")"
   ]
  },
  {
   "cell_type": "code",
   "execution_count": 4,
   "id": "66c46e88",
   "metadata": {
    "execution": {
     "iopub.execute_input": "2022-06-02T14:04:40.384584Z",
     "iopub.status.busy": "2022-06-02T14:04:40.383854Z",
     "iopub.status.idle": "2022-06-02T14:04:40.388768Z",
     "shell.execute_reply": "2022-06-02T14:04:40.387754Z"
    },
    "papermill": {
     "duration": 0.02491,
     "end_time": "2022-06-02T14:04:40.391241",
     "exception": false,
     "start_time": "2022-06-02T14:04:40.366331",
     "status": "completed"
    },
    "tags": []
   },
   "outputs": [],
   "source": [
    "## Copying the DATA to keep the original one and work with the copy to analyse the data\n",
    "df = raw_data.copy()"
   ]
  },
  {
   "cell_type": "code",
   "execution_count": 5,
   "id": "c223841c",
   "metadata": {
    "execution": {
     "iopub.execute_input": "2022-06-02T14:04:40.425068Z",
     "iopub.status.busy": "2022-06-02T14:04:40.423849Z",
     "iopub.status.idle": "2022-06-02T14:04:40.459657Z",
     "shell.execute_reply": "2022-06-02T14:04:40.458450Z"
    },
    "papermill": {
     "duration": 0.054941,
     "end_time": "2022-06-02T14:04:40.461840",
     "exception": false,
     "start_time": "2022-06-02T14:04:40.406899",
     "status": "completed"
    },
    "tags": []
   },
   "outputs": [
    {
     "data": {
      "text/plain": [
       "'The Shape of the DataSet is (8523, 12)'"
      ]
     },
     "metadata": {},
     "output_type": "display_data"
    },
    {
     "data": {
      "text/html": [
       "<div>\n",
       "<style scoped>\n",
       "    .dataframe tbody tr th:only-of-type {\n",
       "        vertical-align: middle;\n",
       "    }\n",
       "\n",
       "    .dataframe tbody tr th {\n",
       "        vertical-align: top;\n",
       "    }\n",
       "\n",
       "    .dataframe thead th {\n",
       "        text-align: right;\n",
       "    }\n",
       "</style>\n",
       "<table border=\"1\" class=\"dataframe\">\n",
       "  <thead>\n",
       "    <tr style=\"text-align: right;\">\n",
       "      <th></th>\n",
       "      <th>Item_Identifier</th>\n",
       "      <th>Item_Weight</th>\n",
       "      <th>Item_Fat_Content</th>\n",
       "      <th>Item_Visibility</th>\n",
       "      <th>Item_Type</th>\n",
       "      <th>Item_MRP</th>\n",
       "      <th>Outlet_Identifier</th>\n",
       "      <th>Outlet_Establishment_Year</th>\n",
       "      <th>Outlet_Size</th>\n",
       "      <th>Outlet_Location_Type</th>\n",
       "      <th>Outlet_Type</th>\n",
       "      <th>Item_Outlet_Sales</th>\n",
       "    </tr>\n",
       "  </thead>\n",
       "  <tbody>\n",
       "    <tr>\n",
       "      <th>0</th>\n",
       "      <td>FDA15</td>\n",
       "      <td>9.300</td>\n",
       "      <td>Low Fat</td>\n",
       "      <td>0.016047</td>\n",
       "      <td>Dairy</td>\n",
       "      <td>249.8092</td>\n",
       "      <td>OUT049</td>\n",
       "      <td>1999</td>\n",
       "      <td>Medium</td>\n",
       "      <td>Tier 1</td>\n",
       "      <td>Supermarket Type1</td>\n",
       "      <td>3735.1380</td>\n",
       "    </tr>\n",
       "    <tr>\n",
       "      <th>1</th>\n",
       "      <td>DRC01</td>\n",
       "      <td>5.920</td>\n",
       "      <td>Regular</td>\n",
       "      <td>0.019278</td>\n",
       "      <td>Soft Drinks</td>\n",
       "      <td>48.2692</td>\n",
       "      <td>OUT018</td>\n",
       "      <td>2009</td>\n",
       "      <td>Medium</td>\n",
       "      <td>Tier 3</td>\n",
       "      <td>Supermarket Type2</td>\n",
       "      <td>443.4228</td>\n",
       "    </tr>\n",
       "    <tr>\n",
       "      <th>2</th>\n",
       "      <td>FDN15</td>\n",
       "      <td>17.500</td>\n",
       "      <td>Low Fat</td>\n",
       "      <td>0.016760</td>\n",
       "      <td>Meat</td>\n",
       "      <td>141.6180</td>\n",
       "      <td>OUT049</td>\n",
       "      <td>1999</td>\n",
       "      <td>Medium</td>\n",
       "      <td>Tier 1</td>\n",
       "      <td>Supermarket Type1</td>\n",
       "      <td>2097.2700</td>\n",
       "    </tr>\n",
       "    <tr>\n",
       "      <th>3</th>\n",
       "      <td>FDX07</td>\n",
       "      <td>19.200</td>\n",
       "      <td>Regular</td>\n",
       "      <td>0.000000</td>\n",
       "      <td>Fruits and Vegetables</td>\n",
       "      <td>182.0950</td>\n",
       "      <td>OUT010</td>\n",
       "      <td>1998</td>\n",
       "      <td>NaN</td>\n",
       "      <td>Tier 3</td>\n",
       "      <td>Grocery Store</td>\n",
       "      <td>732.3800</td>\n",
       "    </tr>\n",
       "    <tr>\n",
       "      <th>4</th>\n",
       "      <td>NCD19</td>\n",
       "      <td>8.930</td>\n",
       "      <td>Low Fat</td>\n",
       "      <td>0.000000</td>\n",
       "      <td>Household</td>\n",
       "      <td>53.8614</td>\n",
       "      <td>OUT013</td>\n",
       "      <td>1987</td>\n",
       "      <td>High</td>\n",
       "      <td>Tier 3</td>\n",
       "      <td>Supermarket Type1</td>\n",
       "      <td>994.7052</td>\n",
       "    </tr>\n",
       "    <tr>\n",
       "      <th>5</th>\n",
       "      <td>FDP36</td>\n",
       "      <td>10.395</td>\n",
       "      <td>Regular</td>\n",
       "      <td>0.000000</td>\n",
       "      <td>Baking Goods</td>\n",
       "      <td>51.4008</td>\n",
       "      <td>OUT018</td>\n",
       "      <td>2009</td>\n",
       "      <td>Medium</td>\n",
       "      <td>Tier 3</td>\n",
       "      <td>Supermarket Type2</td>\n",
       "      <td>556.6088</td>\n",
       "    </tr>\n",
       "    <tr>\n",
       "      <th>6</th>\n",
       "      <td>FDO10</td>\n",
       "      <td>13.650</td>\n",
       "      <td>Regular</td>\n",
       "      <td>0.012741</td>\n",
       "      <td>Snack Foods</td>\n",
       "      <td>57.6588</td>\n",
       "      <td>OUT013</td>\n",
       "      <td>1987</td>\n",
       "      <td>High</td>\n",
       "      <td>Tier 3</td>\n",
       "      <td>Supermarket Type1</td>\n",
       "      <td>343.5528</td>\n",
       "    </tr>\n",
       "    <tr>\n",
       "      <th>7</th>\n",
       "      <td>FDP10</td>\n",
       "      <td>NaN</td>\n",
       "      <td>Low Fat</td>\n",
       "      <td>0.127470</td>\n",
       "      <td>Snack Foods</td>\n",
       "      <td>107.7622</td>\n",
       "      <td>OUT027</td>\n",
       "      <td>1985</td>\n",
       "      <td>Medium</td>\n",
       "      <td>Tier 3</td>\n",
       "      <td>Supermarket Type3</td>\n",
       "      <td>4022.7636</td>\n",
       "    </tr>\n",
       "    <tr>\n",
       "      <th>8</th>\n",
       "      <td>FDH17</td>\n",
       "      <td>16.200</td>\n",
       "      <td>Regular</td>\n",
       "      <td>0.016687</td>\n",
       "      <td>Frozen Foods</td>\n",
       "      <td>96.9726</td>\n",
       "      <td>OUT045</td>\n",
       "      <td>2002</td>\n",
       "      <td>NaN</td>\n",
       "      <td>Tier 2</td>\n",
       "      <td>Supermarket Type1</td>\n",
       "      <td>1076.5986</td>\n",
       "    </tr>\n",
       "    <tr>\n",
       "      <th>9</th>\n",
       "      <td>FDU28</td>\n",
       "      <td>19.200</td>\n",
       "      <td>Regular</td>\n",
       "      <td>0.094450</td>\n",
       "      <td>Frozen Foods</td>\n",
       "      <td>187.8214</td>\n",
       "      <td>OUT017</td>\n",
       "      <td>2007</td>\n",
       "      <td>NaN</td>\n",
       "      <td>Tier 2</td>\n",
       "      <td>Supermarket Type1</td>\n",
       "      <td>4710.5350</td>\n",
       "    </tr>\n",
       "  </tbody>\n",
       "</table>\n",
       "</div>"
      ],
      "text/plain": [
       "  Item_Identifier  Item_Weight Item_Fat_Content  Item_Visibility  \\\n",
       "0           FDA15        9.300          Low Fat         0.016047   \n",
       "1           DRC01        5.920          Regular         0.019278   \n",
       "2           FDN15       17.500          Low Fat         0.016760   \n",
       "3           FDX07       19.200          Regular         0.000000   \n",
       "4           NCD19        8.930          Low Fat         0.000000   \n",
       "5           FDP36       10.395          Regular         0.000000   \n",
       "6           FDO10       13.650          Regular         0.012741   \n",
       "7           FDP10          NaN          Low Fat         0.127470   \n",
       "8           FDH17       16.200          Regular         0.016687   \n",
       "9           FDU28       19.200          Regular         0.094450   \n",
       "\n",
       "               Item_Type  Item_MRP Outlet_Identifier  \\\n",
       "0                  Dairy  249.8092            OUT049   \n",
       "1            Soft Drinks   48.2692            OUT018   \n",
       "2                   Meat  141.6180            OUT049   \n",
       "3  Fruits and Vegetables  182.0950            OUT010   \n",
       "4              Household   53.8614            OUT013   \n",
       "5           Baking Goods   51.4008            OUT018   \n",
       "6            Snack Foods   57.6588            OUT013   \n",
       "7            Snack Foods  107.7622            OUT027   \n",
       "8           Frozen Foods   96.9726            OUT045   \n",
       "9           Frozen Foods  187.8214            OUT017   \n",
       "\n",
       "   Outlet_Establishment_Year Outlet_Size Outlet_Location_Type  \\\n",
       "0                       1999      Medium               Tier 1   \n",
       "1                       2009      Medium               Tier 3   \n",
       "2                       1999      Medium               Tier 1   \n",
       "3                       1998         NaN               Tier 3   \n",
       "4                       1987        High               Tier 3   \n",
       "5                       2009      Medium               Tier 3   \n",
       "6                       1987        High               Tier 3   \n",
       "7                       1985      Medium               Tier 3   \n",
       "8                       2002         NaN               Tier 2   \n",
       "9                       2007         NaN               Tier 2   \n",
       "\n",
       "         Outlet_Type  Item_Outlet_Sales  \n",
       "0  Supermarket Type1          3735.1380  \n",
       "1  Supermarket Type2           443.4228  \n",
       "2  Supermarket Type1          2097.2700  \n",
       "3      Grocery Store           732.3800  \n",
       "4  Supermarket Type1           994.7052  \n",
       "5  Supermarket Type2           556.6088  \n",
       "6  Supermarket Type1           343.5528  \n",
       "7  Supermarket Type3          4022.7636  \n",
       "8  Supermarket Type1          1076.5986  \n",
       "9  Supermarket Type1          4710.5350  "
      ]
     },
     "metadata": {},
     "output_type": "display_data"
    }
   ],
   "source": [
    "display(\"The Shape of the DataSet is {}\".format(df.shape), df.head(10))"
   ]
  },
  {
   "cell_type": "code",
   "execution_count": 6,
   "id": "0121210a",
   "metadata": {
    "execution": {
     "iopub.execute_input": "2022-06-02T14:04:40.495345Z",
     "iopub.status.busy": "2022-06-02T14:04:40.494893Z",
     "iopub.status.idle": "2022-06-02T14:04:40.505806Z",
     "shell.execute_reply": "2022-06-02T14:04:40.504436Z"
    },
    "papermill": {
     "duration": 0.031236,
     "end_time": "2022-06-02T14:04:40.508287",
     "exception": false,
     "start_time": "2022-06-02T14:04:40.477051",
     "status": "completed"
    },
    "tags": []
   },
   "outputs": [
    {
     "data": {
      "text/plain": [
       "Item_Identifier               object\n",
       "Item_Weight                  float64\n",
       "Item_Fat_Content              object\n",
       "Item_Visibility              float64\n",
       "Item_Type                     object\n",
       "Item_MRP                     float64\n",
       "Outlet_Identifier             object\n",
       "Outlet_Establishment_Year      int64\n",
       "Outlet_Size                   object\n",
       "Outlet_Location_Type          object\n",
       "Outlet_Type                   object\n",
       "Item_Outlet_Sales            float64\n",
       "dtype: object"
      ]
     },
     "execution_count": 6,
     "metadata": {},
     "output_type": "execute_result"
    }
   ],
   "source": [
    "# Exploring the Dataset's columns\n",
    "df.dtypes"
   ]
  },
  {
   "cell_type": "markdown",
   "id": "0316494b",
   "metadata": {
    "papermill": {
     "duration": 0.01554,
     "end_time": "2022-06-02T14:04:40.541008",
     "exception": false,
     "start_time": "2022-06-02T14:04:40.525468",
     "status": "completed"
    },
    "tags": []
   },
   "source": [
    "Comment : Based on the result above, we have 5 numeric columns and 7 object type features. \n",
    "We will now explore deeply every single column to see the unique values of each of them, in order to better understand the dataset to lead a better data analysis."
   ]
  },
  {
   "cell_type": "code",
   "execution_count": 7,
   "id": "6fa9aa74",
   "metadata": {
    "execution": {
     "iopub.execute_input": "2022-06-02T14:04:40.577168Z",
     "iopub.status.busy": "2022-06-02T14:04:40.576063Z",
     "iopub.status.idle": "2022-06-02T14:04:40.610098Z",
     "shell.execute_reply": "2022-06-02T14:04:40.609309Z"
    },
    "papermill": {
     "duration": 0.055507,
     "end_time": "2022-06-02T14:04:40.613096",
     "exception": false,
     "start_time": "2022-06-02T14:04:40.557589",
     "status": "completed"
    },
    "tags": []
   },
   "outputs": [
    {
     "name": "stdout",
     "output_type": "stream",
     "text": [
      "The Number of values for the Feature Item_Identifier : ---- 1559\n",
      "The Number of values for the Feature Item_Weight : ---- 416\n",
      "The Number of Values for the Feature Item_Fat_Content : ['Low Fat' 'Regular' 'low fat' 'LF' 'reg'] ---- 5\n",
      "The Number of values for the Feature Item_Visibility : ---- 7880\n",
      "The Number of values for the Feature Item_Type : ---- 16\n",
      "The Number of values for the Feature Item_MRP : ---- 5938\n",
      "The Number of values for the Feature Outlet_Identifier : ---- 10\n",
      "The Number of Values for the Feature Outlet_Establishment_Year : [1999 2009 1998 1987 1985 2002 2007 1997 2004] ---- 9\n",
      "The Number of Values for the Feature Outlet_Size : ['Medium' nan 'High' 'Small'] ---- 4\n",
      "The Number of Values for the Feature Outlet_Location_Type : ['Tier 1' 'Tier 3' 'Tier 2'] ---- 3\n",
      "The Number of Values for the Feature Outlet_Type : ['Supermarket Type1' 'Supermarket Type2' 'Grocery Store'\n",
      " 'Supermarket Type3'] ---- 4\n",
      "The Number of values for the Feature Item_Outlet_Sales : ---- 3493\n"
     ]
    }
   ],
   "source": [
    "# Displaying the Unique Values of each columns\n",
    "for column in df:\n",
    "  if len(df[column].unique()) < 10:\n",
    "    print('The Number of Values for the Feature {} : {} ---- {}'.format(column, \n",
    "                                                                        df[column].unique(),\n",
    "                                                                        len(df[column].unique()),\n",
    "                                                                       type(df[column])))\n",
    "  else:\n",
    "    print('The Number of values for the Feature {} : ---- {}'.format(column, len(df[column].unique())))"
   ]
  },
  {
   "cell_type": "markdown",
   "id": "6c7dd83b",
   "metadata": {
    "papermill": {
     "duration": 0.01599,
     "end_time": "2022-06-02T14:04:40.645225",
     "exception": false,
     "start_time": "2022-06-02T14:04:40.629235",
     "status": "completed"
    },
    "tags": []
   },
   "source": [
    "Comment : With the code above we can see that in the original Dataset, there was an error in the *Item_Fat_Content* column.\n",
    "Hence we have 2 different values that designate the same one (Low Fat and LF) and (Regular and reg),\n",
    "So we will replace (LF to Low Fat) and (reg to Regular).\n"
   ]
  },
  {
   "cell_type": "code",
   "execution_count": 8,
   "id": "9c6ca2be",
   "metadata": {
    "execution": {
     "iopub.execute_input": "2022-06-02T14:04:40.681984Z",
     "iopub.status.busy": "2022-06-02T14:04:40.681519Z",
     "iopub.status.idle": "2022-06-02T14:04:40.691612Z",
     "shell.execute_reply": "2022-06-02T14:04:40.690583Z"
    },
    "papermill": {
     "duration": 0.031808,
     "end_time": "2022-06-02T14:04:40.693997",
     "exception": false,
     "start_time": "2022-06-02T14:04:40.662189",
     "status": "completed"
    },
    "tags": []
   },
   "outputs": [],
   "source": [
    "df['Item_Fat_Content'] = df['Item_Fat_Content'].replace({'LF': 'Low Fat', 'reg': 'Regular', 'low fat': 'Low Fat'})"
   ]
  },
  {
   "cell_type": "code",
   "execution_count": 9,
   "id": "4cc5d255",
   "metadata": {
    "execution": {
     "iopub.execute_input": "2022-06-02T14:04:40.731376Z",
     "iopub.status.busy": "2022-06-02T14:04:40.730171Z",
     "iopub.status.idle": "2022-06-02T14:04:40.758608Z",
     "shell.execute_reply": "2022-06-02T14:04:40.757018Z"
    },
    "papermill": {
     "duration": 0.050373,
     "end_time": "2022-06-02T14:04:40.761782",
     "exception": false,
     "start_time": "2022-06-02T14:04:40.711409",
     "status": "completed"
    },
    "tags": []
   },
   "outputs": [
    {
     "name": "stdout",
     "output_type": "stream",
     "text": [
      "The Number of values for the Feature Item_Identifier : ---- 1559\n",
      "The Number of values for the Feature Item_Weight : ---- 416\n",
      "The Number of Values for the Feature Item_Fat_Content : ['Low Fat' 'Regular'] ---- 2\n",
      "The Number of values for the Feature Item_Visibility : ---- 7880\n",
      "The Number of values for the Feature Item_Type : ---- 16\n",
      "The Number of values for the Feature Item_MRP : ---- 5938\n",
      "The Number of values for the Feature Outlet_Identifier : ---- 10\n",
      "The Number of Values for the Feature Outlet_Establishment_Year : [1999 2009 1998 1987 1985 2002 2007 1997 2004] ---- 9\n",
      "The Number of Values for the Feature Outlet_Size : ['Medium' nan 'High' 'Small'] ---- 4\n",
      "The Number of Values for the Feature Outlet_Location_Type : ['Tier 1' 'Tier 3' 'Tier 2'] ---- 3\n",
      "The Number of Values for the Feature Outlet_Type : ['Supermarket Type1' 'Supermarket Type2' 'Grocery Store'\n",
      " 'Supermarket Type3'] ---- 4\n",
      "The Number of values for the Feature Item_Outlet_Sales : ---- 3493\n"
     ]
    }
   ],
   "source": [
    "## Rechecking for the changements using unique values code\n",
    "for column in df:\n",
    "  if len(df[column].unique()) < 10:\n",
    "    print('The Number of Values for the Feature {} : {} ---- {}'.format(column, \n",
    "                                                                        df[column].unique(),\n",
    "                                                                        len(df[column].unique()),\n",
    "                                                                       type(df[column])))\n",
    "  else:\n",
    "    print('The Number of values for the Feature {} : ---- {}'.format(column, len(df[column].unique())))"
   ]
  },
  {
   "cell_type": "code",
   "execution_count": 10,
   "id": "edac7e45",
   "metadata": {
    "execution": {
     "iopub.execute_input": "2022-06-02T14:04:40.795792Z",
     "iopub.status.busy": "2022-06-02T14:04:40.795390Z",
     "iopub.status.idle": "2022-06-02T14:04:40.884062Z",
     "shell.execute_reply": "2022-06-02T14:04:40.883045Z"
    },
    "papermill": {
     "duration": 0.108101,
     "end_time": "2022-06-02T14:04:40.886703",
     "exception": false,
     "start_time": "2022-06-02T14:04:40.778602",
     "status": "completed"
    },
    "tags": []
   },
   "outputs": [
    {
     "data": {
      "text/html": [
       "<div>\n",
       "<style scoped>\n",
       "    .dataframe tbody tr th:only-of-type {\n",
       "        vertical-align: middle;\n",
       "    }\n",
       "\n",
       "    .dataframe tbody tr th {\n",
       "        vertical-align: top;\n",
       "    }\n",
       "\n",
       "    .dataframe thead th {\n",
       "        text-align: right;\n",
       "    }\n",
       "</style>\n",
       "<table border=\"1\" class=\"dataframe\">\n",
       "  <thead>\n",
       "    <tr style=\"text-align: right;\">\n",
       "      <th></th>\n",
       "      <th>Item_Weight</th>\n",
       "      <th>Item_Visibility</th>\n",
       "      <th>Item_MRP</th>\n",
       "      <th>Outlet_Establishment_Year</th>\n",
       "      <th>Item_Outlet_Sales</th>\n",
       "    </tr>\n",
       "  </thead>\n",
       "  <tbody>\n",
       "    <tr>\n",
       "      <th>count</th>\n",
       "      <td>7060.000000</td>\n",
       "      <td>8523.000000</td>\n",
       "      <td>8523.000000</td>\n",
       "      <td>8523.000000</td>\n",
       "      <td>8523.000000</td>\n",
       "    </tr>\n",
       "    <tr>\n",
       "      <th>mean</th>\n",
       "      <td>12.857645</td>\n",
       "      <td>0.066132</td>\n",
       "      <td>140.992782</td>\n",
       "      <td>1997.831867</td>\n",
       "      <td>2181.288914</td>\n",
       "    </tr>\n",
       "    <tr>\n",
       "      <th>std</th>\n",
       "      <td>4.643456</td>\n",
       "      <td>0.051598</td>\n",
       "      <td>62.275067</td>\n",
       "      <td>8.371760</td>\n",
       "      <td>1706.499616</td>\n",
       "    </tr>\n",
       "    <tr>\n",
       "      <th>min</th>\n",
       "      <td>4.555000</td>\n",
       "      <td>0.000000</td>\n",
       "      <td>31.290000</td>\n",
       "      <td>1985.000000</td>\n",
       "      <td>33.290000</td>\n",
       "    </tr>\n",
       "    <tr>\n",
       "      <th>25%</th>\n",
       "      <td>8.773750</td>\n",
       "      <td>0.026989</td>\n",
       "      <td>93.826500</td>\n",
       "      <td>1987.000000</td>\n",
       "      <td>834.247400</td>\n",
       "    </tr>\n",
       "    <tr>\n",
       "      <th>50%</th>\n",
       "      <td>12.600000</td>\n",
       "      <td>0.053931</td>\n",
       "      <td>143.012800</td>\n",
       "      <td>1999.000000</td>\n",
       "      <td>1794.331000</td>\n",
       "    </tr>\n",
       "    <tr>\n",
       "      <th>75%</th>\n",
       "      <td>16.850000</td>\n",
       "      <td>0.094585</td>\n",
       "      <td>185.643700</td>\n",
       "      <td>2004.000000</td>\n",
       "      <td>3101.296400</td>\n",
       "    </tr>\n",
       "    <tr>\n",
       "      <th>max</th>\n",
       "      <td>21.350000</td>\n",
       "      <td>0.328391</td>\n",
       "      <td>266.888400</td>\n",
       "      <td>2009.000000</td>\n",
       "      <td>13086.964800</td>\n",
       "    </tr>\n",
       "  </tbody>\n",
       "</table>\n",
       "</div>"
      ],
      "text/plain": [
       "       Item_Weight  Item_Visibility     Item_MRP  Outlet_Establishment_Year  \\\n",
       "count  7060.000000      8523.000000  8523.000000                8523.000000   \n",
       "mean     12.857645         0.066132   140.992782                1997.831867   \n",
       "std       4.643456         0.051598    62.275067                   8.371760   \n",
       "min       4.555000         0.000000    31.290000                1985.000000   \n",
       "25%       8.773750         0.026989    93.826500                1987.000000   \n",
       "50%      12.600000         0.053931   143.012800                1999.000000   \n",
       "75%      16.850000         0.094585   185.643700                2004.000000   \n",
       "max      21.350000         0.328391   266.888400                2009.000000   \n",
       "\n",
       "       Item_Outlet_Sales  \n",
       "count        8523.000000  \n",
       "mean         2181.288914  \n",
       "std          1706.499616  \n",
       "min            33.290000  \n",
       "25%           834.247400  \n",
       "50%          1794.331000  \n",
       "75%          3101.296400  \n",
       "max         13086.964800  "
      ]
     },
     "metadata": {},
     "output_type": "display_data"
    },
    {
     "data": {
      "text/html": [
       "<div>\n",
       "<style scoped>\n",
       "    .dataframe tbody tr th:only-of-type {\n",
       "        vertical-align: middle;\n",
       "    }\n",
       "\n",
       "    .dataframe tbody tr th {\n",
       "        vertical-align: top;\n",
       "    }\n",
       "\n",
       "    .dataframe thead th {\n",
       "        text-align: right;\n",
       "    }\n",
       "</style>\n",
       "<table border=\"1\" class=\"dataframe\">\n",
       "  <thead>\n",
       "    <tr style=\"text-align: right;\">\n",
       "      <th></th>\n",
       "      <th>Item_Identifier</th>\n",
       "      <th>Item_Fat_Content</th>\n",
       "      <th>Item_Type</th>\n",
       "      <th>Outlet_Identifier</th>\n",
       "      <th>Outlet_Size</th>\n",
       "      <th>Outlet_Location_Type</th>\n",
       "      <th>Outlet_Type</th>\n",
       "    </tr>\n",
       "  </thead>\n",
       "  <tbody>\n",
       "    <tr>\n",
       "      <th>count</th>\n",
       "      <td>8523</td>\n",
       "      <td>8523</td>\n",
       "      <td>8523</td>\n",
       "      <td>8523</td>\n",
       "      <td>6113</td>\n",
       "      <td>8523</td>\n",
       "      <td>8523</td>\n",
       "    </tr>\n",
       "    <tr>\n",
       "      <th>unique</th>\n",
       "      <td>1559</td>\n",
       "      <td>2</td>\n",
       "      <td>16</td>\n",
       "      <td>10</td>\n",
       "      <td>3</td>\n",
       "      <td>3</td>\n",
       "      <td>4</td>\n",
       "    </tr>\n",
       "    <tr>\n",
       "      <th>top</th>\n",
       "      <td>FDW13</td>\n",
       "      <td>Low Fat</td>\n",
       "      <td>Fruits and Vegetables</td>\n",
       "      <td>OUT027</td>\n",
       "      <td>Medium</td>\n",
       "      <td>Tier 3</td>\n",
       "      <td>Supermarket Type1</td>\n",
       "    </tr>\n",
       "    <tr>\n",
       "      <th>freq</th>\n",
       "      <td>10</td>\n",
       "      <td>5517</td>\n",
       "      <td>1232</td>\n",
       "      <td>935</td>\n",
       "      <td>2793</td>\n",
       "      <td>3350</td>\n",
       "      <td>5577</td>\n",
       "    </tr>\n",
       "  </tbody>\n",
       "</table>\n",
       "</div>"
      ],
      "text/plain": [
       "       Item_Identifier Item_Fat_Content              Item_Type  \\\n",
       "count             8523             8523                   8523   \n",
       "unique            1559                2                     16   \n",
       "top              FDW13          Low Fat  Fruits and Vegetables   \n",
       "freq                10             5517                   1232   \n",
       "\n",
       "       Outlet_Identifier Outlet_Size Outlet_Location_Type        Outlet_Type  \n",
       "count               8523        6113                 8523               8523  \n",
       "unique                10           3                    3                  4  \n",
       "top               OUT027      Medium               Tier 3  Supermarket Type1  \n",
       "freq                 935        2793                 3350               5577  "
      ]
     },
     "metadata": {},
     "output_type": "display_data"
    }
   ],
   "source": [
    "# Analysing Statistically the dataset features\n",
    "display(df.describe(),\n",
    "        df.describe(include = object))"
   ]
  },
  {
   "cell_type": "code",
   "execution_count": 11,
   "id": "9b1d5c32",
   "metadata": {
    "execution": {
     "iopub.execute_input": "2022-06-02T14:04:40.925093Z",
     "iopub.status.busy": "2022-06-02T14:04:40.924063Z",
     "iopub.status.idle": "2022-06-02T14:04:40.940950Z",
     "shell.execute_reply": "2022-06-02T14:04:40.939995Z"
    },
    "papermill": {
     "duration": 0.03854,
     "end_time": "2022-06-02T14:04:40.943210",
     "exception": false,
     "start_time": "2022-06-02T14:04:40.904670",
     "status": "completed"
    },
    "tags": []
   },
   "outputs": [
    {
     "data": {
      "text/html": [
       "<div>\n",
       "<style scoped>\n",
       "    .dataframe tbody tr th:only-of-type {\n",
       "        vertical-align: middle;\n",
       "    }\n",
       "\n",
       "    .dataframe tbody tr th {\n",
       "        vertical-align: top;\n",
       "    }\n",
       "\n",
       "    .dataframe thead th {\n",
       "        text-align: right;\n",
       "    }\n",
       "</style>\n",
       "<table border=\"1\" class=\"dataframe\">\n",
       "  <thead>\n",
       "    <tr style=\"text-align: right;\">\n",
       "      <th></th>\n",
       "      <th>Item_Weight</th>\n",
       "      <th>Item_Visibility</th>\n",
       "      <th>Item_MRP</th>\n",
       "      <th>Outlet_Establishment_Year</th>\n",
       "      <th>Item_Outlet_Sales</th>\n",
       "    </tr>\n",
       "  </thead>\n",
       "  <tbody>\n",
       "    <tr>\n",
       "      <th>Item_Weight</th>\n",
       "      <td>1.000000</td>\n",
       "      <td>-0.014048</td>\n",
       "      <td>0.027141</td>\n",
       "      <td>-0.011588</td>\n",
       "      <td>0.014123</td>\n",
       "    </tr>\n",
       "    <tr>\n",
       "      <th>Item_Visibility</th>\n",
       "      <td>-0.014048</td>\n",
       "      <td>1.000000</td>\n",
       "      <td>-0.001315</td>\n",
       "      <td>-0.074834</td>\n",
       "      <td>-0.128625</td>\n",
       "    </tr>\n",
       "    <tr>\n",
       "      <th>Item_MRP</th>\n",
       "      <td>0.027141</td>\n",
       "      <td>-0.001315</td>\n",
       "      <td>1.000000</td>\n",
       "      <td>0.005020</td>\n",
       "      <td>0.567574</td>\n",
       "    </tr>\n",
       "    <tr>\n",
       "      <th>Outlet_Establishment_Year</th>\n",
       "      <td>-0.011588</td>\n",
       "      <td>-0.074834</td>\n",
       "      <td>0.005020</td>\n",
       "      <td>1.000000</td>\n",
       "      <td>-0.049135</td>\n",
       "    </tr>\n",
       "    <tr>\n",
       "      <th>Item_Outlet_Sales</th>\n",
       "      <td>0.014123</td>\n",
       "      <td>-0.128625</td>\n",
       "      <td>0.567574</td>\n",
       "      <td>-0.049135</td>\n",
       "      <td>1.000000</td>\n",
       "    </tr>\n",
       "  </tbody>\n",
       "</table>\n",
       "</div>"
      ],
      "text/plain": [
       "                           Item_Weight  Item_Visibility  Item_MRP  \\\n",
       "Item_Weight                   1.000000        -0.014048  0.027141   \n",
       "Item_Visibility              -0.014048         1.000000 -0.001315   \n",
       "Item_MRP                      0.027141        -0.001315  1.000000   \n",
       "Outlet_Establishment_Year    -0.011588        -0.074834  0.005020   \n",
       "Item_Outlet_Sales             0.014123        -0.128625  0.567574   \n",
       "\n",
       "                           Outlet_Establishment_Year  Item_Outlet_Sales  \n",
       "Item_Weight                                -0.011588           0.014123  \n",
       "Item_Visibility                            -0.074834          -0.128625  \n",
       "Item_MRP                                    0.005020           0.567574  \n",
       "Outlet_Establishment_Year                   1.000000          -0.049135  \n",
       "Item_Outlet_Sales                          -0.049135           1.000000  "
      ]
     },
     "execution_count": 11,
     "metadata": {},
     "output_type": "execute_result"
    }
   ],
   "source": [
    "df.corr()"
   ]
  },
  {
   "cell_type": "code",
   "execution_count": 12,
   "id": "d2faa247",
   "metadata": {
    "execution": {
     "iopub.execute_input": "2022-06-02T14:04:40.980187Z",
     "iopub.status.busy": "2022-06-02T14:04:40.979002Z",
     "iopub.status.idle": "2022-06-02T14:04:41.013421Z",
     "shell.execute_reply": "2022-06-02T14:04:41.011964Z"
    },
    "papermill": {
     "duration": 0.055914,
     "end_time": "2022-06-02T14:04:41.016476",
     "exception": false,
     "start_time": "2022-06-02T14:04:40.960562",
     "status": "completed"
    },
    "tags": []
   },
   "outputs": [
    {
     "name": "stderr",
     "output_type": "stream",
     "text": [
      "/opt/conda/lib/python3.7/site-packages/ipykernel_launcher.py:3: FutureWarning: Dropping of nuisance columns in DataFrame reductions (with 'numeric_only=None') is deprecated; in a future version this will raise TypeError.  Select only valid columns before calling the reduction.\n",
      "  This is separate from the ipykernel package so we can avoid doing imports until\n"
     ]
    },
    {
     "data": {
      "text/plain": [
       "'The Kurtosis of the DataSet is Item_Weight                 -1.227766\\nItem_Visibility              1.679445\\nItem_MRP                    -0.889769\\nOutlet_Establishment_Year   -1.205694\\nItem_Outlet_Sales            1.615877\\ndtype: float64'"
      ]
     },
     "metadata": {},
     "output_type": "display_data"
    },
    {
     "name": "stderr",
     "output_type": "stream",
     "text": [
      "/opt/conda/lib/python3.7/site-packages/ipykernel_launcher.py:5: FutureWarning: Dropping of nuisance columns in DataFrame reductions (with 'numeric_only=None') is deprecated; in a future version this will raise TypeError.  Select only valid columns before calling the reduction.\n",
      "  \"\"\"\n"
     ]
    },
    {
     "data": {
      "text/plain": [
       "'The Skewness of the DataSet is Item_Weight                  0.082426\\nItem_Visibility              1.167091\\nItem_MRP                     0.127202\\nOutlet_Establishment_Year   -0.396641\\nItem_Outlet_Sales            1.177531\\ndtype: float64'"
      ]
     },
     "metadata": {},
     "output_type": "display_data"
    }
   ],
   "source": [
    "### Checking for the Kurtosis and the Skewness of the Dataset\n",
    "# Displaying the Kurtosis and the Skewness of the Data\n",
    "display(\"The Kurtosis of the DataSet is {}\".format(df.kurtosis()))\n",
    "\n",
    "display(\"The Skewness of the DataSet is {}\".format(df.skew()))"
   ]
  },
  {
   "cell_type": "code",
   "execution_count": 13,
   "id": "81e8d515",
   "metadata": {
    "execution": {
     "iopub.execute_input": "2022-06-02T14:04:41.055193Z",
     "iopub.status.busy": "2022-06-02T14:04:41.054789Z",
     "iopub.status.idle": "2022-06-02T14:04:41.075727Z",
     "shell.execute_reply": "2022-06-02T14:04:41.074543Z"
    },
    "papermill": {
     "duration": 0.044043,
     "end_time": "2022-06-02T14:04:41.078716",
     "exception": false,
     "start_time": "2022-06-02T14:04:41.034673",
     "status": "completed"
    },
    "tags": []
   },
   "outputs": [
    {
     "name": "stdout",
     "output_type": "stream",
     "text": [
      "The Shape of the Data Before removing duplicate rows is (8523, 12)\n"
     ]
    },
    {
     "data": {
      "text/plain": [
       "'The Shape of the Duplicate Rows DataFrame is (0, 12)'"
      ]
     },
     "metadata": {},
     "output_type": "display_data"
    }
   ],
   "source": [
    "## Checking for Duplicate rows to drop them \n",
    "### Checking for the DataSet shape before removing the Data\n",
    "print(\"The Shape of the Data Before removing duplicate rows is {}\".format(df.shape))\n",
    "\n",
    "### The Code to remove the duplicate rows\n",
    "duplicate_rows_df = df[df.duplicated()]\n",
    "\n",
    "### Displaying the Duplicate rows DataFrame\n",
    "display(\"The Shape of the Duplicate Rows DataFrame is {}\".format(duplicate_rows_df.shape))"
   ]
  },
  {
   "cell_type": "markdown",
   "id": "0b4104d2",
   "metadata": {
    "papermill": {
     "duration": 0.018374,
     "end_time": "2022-06-02T14:04:41.114952",
     "exception": false,
     "start_time": "2022-06-02T14:04:41.096578",
     "status": "completed"
    },
    "tags": []
   },
   "source": [
    "#### Now let's Check for the missing Data\n"
   ]
  },
  {
   "cell_type": "code",
   "execution_count": 14,
   "id": "eebdbb6c",
   "metadata": {
    "execution": {
     "iopub.execute_input": "2022-06-02T14:04:41.151845Z",
     "iopub.status.busy": "2022-06-02T14:04:41.151163Z",
     "iopub.status.idle": "2022-06-02T14:04:41.278152Z",
     "shell.execute_reply": "2022-06-02T14:04:41.276577Z"
    },
    "papermill": {
     "duration": 0.147424,
     "end_time": "2022-06-02T14:04:41.280059",
     "exception": true,
     "start_time": "2022-06-02T14:04:41.132635",
     "status": "failed"
    },
    "tags": []
   },
   "outputs": [
    {
     "ename": "AttributeError",
     "evalue": "'str' object has no attribute 'df'",
     "output_type": "error",
     "traceback": [
      "\u001b[0;31m---------------------------------------------------------------------------\u001b[0m",
      "\u001b[0;31mAttributeError\u001b[0m                            Traceback (most recent call last)",
      "\u001b[0;32m/tmp/ipykernel_19/1500279162.py\u001b[0m in \u001b[0;36m<module>\u001b[0;34m\u001b[0m\n\u001b[0;32m----> 1\u001b[0;31m \u001b[0mdisplay\u001b[0m\u001b[0;34m(\u001b[0m\u001b[0;34m\"The Number of rows in the \"\u001b[0m\u001b[0;34m.\u001b[0m\u001b[0mdf\u001b[0m\u001b[0;34m.\u001b[0m\u001b[0mshape\u001b[0m\u001b[0;34m[\u001b[0m\u001b[0;36m0\u001b[0m\u001b[0;34m]\u001b[0m\u001b[0;34m,\u001b[0m \u001b[0mdf\u001b[0m\u001b[0;34m.\u001b[0m\u001b[0misnull\u001b[0m\u001b[0;34m(\u001b[0m\u001b[0;34m)\u001b[0m\u001b[0;34m.\u001b[0m\u001b[0msum\u001b[0m\u001b[0;34m(\u001b[0m\u001b[0;34m)\u001b[0m\u001b[0;34m)\u001b[0m\u001b[0;34m\u001b[0m\u001b[0;34m\u001b[0m\u001b[0m\n\u001b[0m",
      "\u001b[0;31mAttributeError\u001b[0m: 'str' object has no attribute 'df'"
     ]
    }
   ],
   "source": [
    "display(\"The Number of rows in the \".df.shape[0], df.isnull().sum())"
   ]
  },
  {
   "cell_type": "code",
   "execution_count": null,
   "id": "a5e1e196",
   "metadata": {
    "execution": {
     "iopub.status.busy": "2022-06-02T13:44:51.649618Z",
     "iopub.status.idle": "2022-06-02T13:44:51.650051Z",
     "shell.execute_reply": "2022-06-02T13:44:51.649880Z",
     "shell.execute_reply.started": "2022-06-02T13:44:51.649859Z"
    },
    "papermill": {
     "duration": null,
     "end_time": null,
     "exception": null,
     "start_time": null,
     "status": "pending"
    },
    "tags": []
   },
   "outputs": [],
   "source": [
    "plt.figure(figsize=(10,6))\n",
    "sns.heatmap(df.isna().transpose(),\n",
    "            cmap=\"YlGnBu\",\n",
    "            cbar_kws={'label': 'Missing Data'})\n",
    "plt.savefig(\"visualizing_missing_data_with_heatmap_Seaborn_Python.png\", dpi=100)"
   ]
  },
  {
   "cell_type": "code",
   "execution_count": null,
   "id": "076767fa",
   "metadata": {
    "execution": {
     "iopub.status.busy": "2022-06-02T13:44:51.652426Z",
     "iopub.status.idle": "2022-06-02T13:44:51.652864Z",
     "shell.execute_reply": "2022-06-02T13:44:51.652696Z",
     "shell.execute_reply.started": "2022-06-02T13:44:51.652675Z"
    },
    "papermill": {
     "duration": null,
     "end_time": null,
     "exception": null,
     "start_time": null,
     "status": "pending"
    },
    "tags": []
   },
   "outputs": [],
   "source": [
    "# Using DataViz to better view the missing values on the dataset\n",
    "import seaborn as sns\n",
    "fig, ax = plt.subplots(figsize=(8,8))\n",
    "sns.heatmap(df.isnull(), cbar = False, yticklabels = False, vmin=0.5, vmax=0.7, ax = ax)"
   ]
  },
  {
   "cell_type": "code",
   "execution_count": null,
   "id": "0288c3ee",
   "metadata": {
    "execution": {
     "iopub.status.busy": "2022-06-02T13:44:51.654458Z",
     "iopub.status.idle": "2022-06-02T13:44:51.655089Z",
     "shell.execute_reply": "2022-06-02T13:44:51.654886Z",
     "shell.execute_reply.started": "2022-06-02T13:44:51.654863Z"
    },
    "papermill": {
     "duration": null,
     "end_time": null,
     "exception": null,
     "start_time": null,
     "status": "pending"
    },
    "tags": []
   },
   "outputs": [],
   "source": [
    "plt.figure(figsize=(10,6))\n",
    "sns.displot(\n",
    "    data=df.isna().melt(value_name=\"missing\"),\n",
    "    y=\"variable\",\n",
    "    hue=\"missing\",\n",
    "    multiple=\"fill\",\n",
    "    aspect=1.25\n",
    ")\n",
    "plt.savefig(\"visualizing_missing_data_with_barplot_Seaborn_distplot.png\", dpi=100)"
   ]
  },
  {
   "cell_type": "markdown",
   "id": "b1f83da9",
   "metadata": {
    "papermill": {
     "duration": null,
     "end_time": null,
     "exception": null,
     "start_time": null,
     "status": "pending"
    },
    "tags": []
   },
   "source": [
    "**Comment :** As we can see in the graph above and the one "
   ]
  },
  {
   "cell_type": "markdown",
   "id": "5c0be853",
   "metadata": {
    "papermill": {
     "duration": null,
     "end_time": null,
     "exception": null,
     "start_time": null,
     "status": "pending"
    },
    "tags": []
   },
   "source": [
    "#### Python | Visualize missing values (NaN) values using Missingno Library\n",
    "\n",
    "Missingno library offers a very nice way to visualize the distribution of NaN values. Missingno is a Python library and compatible with Pandas."
   ]
  },
  {
   "cell_type": "code",
   "execution_count": null,
   "id": "4a64e28b",
   "metadata": {
    "execution": {
     "iopub.status.busy": "2022-06-02T13:44:51.656614Z",
     "iopub.status.idle": "2022-06-02T13:44:51.657011Z",
     "shell.execute_reply": "2022-06-02T13:44:51.656853Z",
     "shell.execute_reply.started": "2022-06-02T13:44:51.656834Z"
    },
    "papermill": {
     "duration": null,
     "end_time": null,
     "exception": null,
     "start_time": null,
     "status": "pending"
    },
    "tags": []
   },
   "outputs": [],
   "source": [
    "pip install missingno"
   ]
  },
  {
   "cell_type": "code",
   "execution_count": null,
   "id": "f2c4e9f2",
   "metadata": {
    "execution": {
     "iopub.status.busy": "2022-06-02T13:44:51.658389Z",
     "iopub.status.idle": "2022-06-02T13:44:51.659072Z",
     "shell.execute_reply": "2022-06-02T13:44:51.658893Z",
     "shell.execute_reply.started": "2022-06-02T13:44:51.658872Z"
    },
    "papermill": {
     "duration": null,
     "end_time": null,
     "exception": null,
     "start_time": null,
     "status": "pending"
    },
    "tags": []
   },
   "outputs": [],
   "source": [
    "import missingno as msno"
   ]
  },
  {
   "cell_type": "code",
   "execution_count": null,
   "id": "a6083375",
   "metadata": {
    "execution": {
     "iopub.status.busy": "2022-06-02T13:44:51.660594Z",
     "iopub.status.idle": "2022-06-02T13:44:51.660984Z",
     "shell.execute_reply": "2022-06-02T13:44:51.660828Z",
     "shell.execute_reply.started": "2022-06-02T13:44:51.660809Z"
    },
    "papermill": {
     "duration": null,
     "end_time": null,
     "exception": null,
     "start_time": null,
     "status": "pending"
    },
    "tags": []
   },
   "outputs": [],
   "source": [
    "msno.matrix(df)"
   ]
  },
  {
   "cell_type": "code",
   "execution_count": null,
   "id": "0e046b41",
   "metadata": {
    "execution": {
     "iopub.status.busy": "2022-06-02T13:44:51.662317Z",
     "iopub.status.idle": "2022-06-02T13:44:51.662862Z",
     "shell.execute_reply": "2022-06-02T13:44:51.662557Z",
     "shell.execute_reply.started": "2022-06-02T13:44:51.662538Z"
    },
    "papermill": {
     "duration": null,
     "end_time": null,
     "exception": null,
     "start_time": null,
     "status": "pending"
    },
    "tags": []
   },
   "outputs": [],
   "source": [
    "msno.bar(df)"
   ]
  },
  {
   "cell_type": "code",
   "execution_count": null,
   "id": "a2936ce5",
   "metadata": {
    "execution": {
     "iopub.status.busy": "2022-06-02T13:44:51.664093Z",
     "iopub.status.idle": "2022-06-02T13:44:51.665466Z",
     "shell.execute_reply": "2022-06-02T13:44:51.665251Z",
     "shell.execute_reply.started": "2022-06-02T13:44:51.665229Z"
    },
    "papermill": {
     "duration": null,
     "end_time": null,
     "exception": null,
     "start_time": null,
     "status": "pending"
    },
    "tags": []
   },
   "outputs": [],
   "source": [
    "## Visualizing the missing data using heatmaps\n",
    "\n",
    "# Also, missingno.heatmap visualizes the correlation matrix about the locations of missing values in columns.\n",
    "\n",
    "msno.heatmap(df)"
   ]
  },
  {
   "cell_type": "code",
   "execution_count": null,
   "id": "e1aeca20",
   "metadata": {
    "execution": {
     "iopub.status.busy": "2022-06-02T13:44:51.666519Z",
     "iopub.status.idle": "2022-06-02T13:44:51.667234Z",
     "shell.execute_reply": "2022-06-02T13:44:51.667034Z",
     "shell.execute_reply.started": "2022-06-02T13:44:51.666986Z"
    },
    "papermill": {
     "duration": null,
     "end_time": null,
     "exception": null,
     "start_time": null,
     "status": "pending"
    },
    "tags": []
   },
   "outputs": [],
   "source": [
    "### Styding the Correlation between variables using scatter plots\n",
    "\n",
    "# We will begin by selecting only the numeric columns\n",
    "num_columns = df.select_dtypes(include=np.number).columns.tolist()\n",
    "num_columns.append('Item_Fat_Content')\n",
    "num_columns"
   ]
  },
  {
   "cell_type": "code",
   "execution_count": null,
   "id": "63a26f21",
   "metadata": {
    "execution": {
     "iopub.status.busy": "2022-06-02T13:44:51.668640Z",
     "iopub.status.idle": "2022-06-02T13:44:51.669330Z",
     "shell.execute_reply": "2022-06-02T13:44:51.669124Z",
     "shell.execute_reply.started": "2022-06-02T13:44:51.669102Z"
    },
    "papermill": {
     "duration": null,
     "end_time": null,
     "exception": null,
     "start_time": null,
     "status": "pending"
    },
    "tags": []
   },
   "outputs": [],
   "source": [
    "sns.pairplot(df[num_columns], hue = 'Item_Fat_Content')"
   ]
  },
  {
   "cell_type": "code",
   "execution_count": null,
   "id": "cc5477eb",
   "metadata": {
    "execution": {
     "iopub.status.busy": "2022-06-02T13:44:51.670561Z",
     "iopub.status.idle": "2022-06-02T13:44:51.670948Z",
     "shell.execute_reply": "2022-06-02T13:44:51.670786Z",
     "shell.execute_reply.started": "2022-06-02T13:44:51.670767Z"
    },
    "papermill": {
     "duration": null,
     "end_time": null,
     "exception": null,
     "start_time": null,
     "status": "pending"
    },
    "tags": []
   },
   "outputs": [],
   "source": [
    "for column in df[num_columns]:\n",
    "    display(df.hist(column = column, grid = False, color='firebrick', bins = 3))"
   ]
  },
  {
   "cell_type": "code",
   "execution_count": null,
   "id": "54d68efb",
   "metadata": {
    "execution": {
     "iopub.status.busy": "2022-06-02T13:44:51.672305Z",
     "iopub.status.idle": "2022-06-02T13:44:51.673328Z",
     "shell.execute_reply": "2022-06-02T13:44:51.673105Z",
     "shell.execute_reply.started": "2022-06-02T13:44:51.673080Z"
    },
    "papermill": {
     "duration": null,
     "end_time": null,
     "exception": null,
     "start_time": null,
     "status": "pending"
    },
    "tags": []
   },
   "outputs": [],
   "source": [
    "# filling the missing values in \"Item_weight column\" with \"Mean\" value\n",
    "df['Item_Weight'].fillna(df['Item_Weight'].mean(), inplace=True)"
   ]
  },
  {
   "cell_type": "code",
   "execution_count": null,
   "id": "e48ed8ee",
   "metadata": {
    "execution": {
     "iopub.status.busy": "2022-06-02T13:44:51.674399Z",
     "iopub.status.idle": "2022-06-02T13:44:51.675088Z",
     "shell.execute_reply": "2022-06-02T13:44:51.674919Z",
     "shell.execute_reply.started": "2022-06-02T13:44:51.674894Z"
    },
    "papermill": {
     "duration": null,
     "end_time": null,
     "exception": null,
     "start_time": null,
     "status": "pending"
    },
    "tags": []
   },
   "outputs": [],
   "source": [
    "df.isnull().sum()"
   ]
  },
  {
   "cell_type": "code",
   "execution_count": null,
   "id": "5fcae14d",
   "metadata": {
    "execution": {
     "iopub.execute_input": "2022-06-02T13:45:54.219369Z",
     "iopub.status.busy": "2022-06-02T13:45:54.218995Z",
     "iopub.status.idle": "2022-06-02T13:45:54.226133Z",
     "shell.execute_reply": "2022-06-02T13:45:54.225247Z",
     "shell.execute_reply.started": "2022-06-02T13:45:54.219340Z"
    },
    "papermill": {
     "duration": null,
     "end_time": null,
     "exception": null,
     "start_time": null,
     "status": "pending"
    },
    "tags": []
   },
   "outputs": [],
   "source": [
    "df.columns"
   ]
  },
  {
   "cell_type": "code",
   "execution_count": null,
   "id": "e700ef93",
   "metadata": {
    "execution": {
     "iopub.execute_input": "2022-06-02T13:46:16.499733Z",
     "iopub.status.busy": "2022-06-02T13:46:16.499145Z",
     "iopub.status.idle": "2022-06-02T13:46:16.509421Z",
     "shell.execute_reply": "2022-06-02T13:46:16.508306Z",
     "shell.execute_reply.started": "2022-06-02T13:46:16.499651Z"
    },
    "papermill": {
     "duration": null,
     "end_time": null,
     "exception": null,
     "start_time": null,
     "status": "pending"
    },
    "tags": []
   },
   "outputs": [],
   "source": [
    "df['Item_Type'].value_counts"
   ]
  },
  {
   "cell_type": "code",
   "execution_count": null,
   "id": "51663367",
   "metadata": {
    "execution": {
     "iopub.execute_input": "2022-06-02T13:47:53.587031Z",
     "iopub.status.busy": "2022-06-02T13:47:53.586576Z",
     "iopub.status.idle": "2022-06-02T13:47:53.600239Z",
     "shell.execute_reply": "2022-06-02T13:47:53.599388Z",
     "shell.execute_reply.started": "2022-06-02T13:47:53.586995Z"
    },
    "papermill": {
     "duration": null,
     "end_time": null,
     "exception": null,
     "start_time": null,
     "status": "pending"
    },
    "tags": []
   },
   "outputs": [],
   "source": [
    "## Putting Columns with less than 10 unique values together \n",
    "\n",
    "## Rechecking for the changements using unique values code\n",
    "\n",
    "columns_with_less_than_10_unique_values = []\n",
    "\n",
    "for column in df:\n",
    "  if len(df[column].unique()) < 10:\n",
    "    columns_with_less_than_10_unique_values.append(column)\n",
    "    "
   ]
  },
  {
   "cell_type": "code",
   "execution_count": null,
   "id": "56f840d2",
   "metadata": {
    "execution": {
     "iopub.execute_input": "2022-06-02T13:48:01.504833Z",
     "iopub.status.busy": "2022-06-02T13:48:01.504411Z",
     "iopub.status.idle": "2022-06-02T13:48:01.510453Z",
     "shell.execute_reply": "2022-06-02T13:48:01.509325Z",
     "shell.execute_reply.started": "2022-06-02T13:48:01.504799Z"
    },
    "papermill": {
     "duration": null,
     "end_time": null,
     "exception": null,
     "start_time": null,
     "status": "pending"
    },
    "tags": []
   },
   "outputs": [],
   "source": [
    "print(columns_with_less_than_10_unique_values)"
   ]
  },
  {
   "cell_type": "code",
   "execution_count": null,
   "id": "71a6014d",
   "metadata": {
    "execution": {
     "iopub.execute_input": "2022-06-02T13:58:41.121420Z",
     "iopub.status.busy": "2022-06-02T13:58:41.120234Z",
     "iopub.status.idle": "2022-06-02T13:58:41.127444Z",
     "shell.execute_reply": "2022-06-02T13:58:41.125801Z",
     "shell.execute_reply.started": "2022-06-02T13:58:41.121367Z"
    },
    "papermill": {
     "duration": null,
     "end_time": null,
     "exception": null,
     "start_time": null,
     "status": "pending"
    },
    "tags": []
   },
   "outputs": [],
   "source": [
    "for col in columns_with_less_than_10_unique_values:\n",
    "    print(type(col))"
   ]
  },
  {
   "cell_type": "code",
   "execution_count": null,
   "id": "ce16ab96",
   "metadata": {
    "execution": {
     "iopub.execute_input": "2022-06-02T13:59:16.381863Z",
     "iopub.status.busy": "2022-06-02T13:59:16.381221Z",
     "iopub.status.idle": "2022-06-02T13:59:16.569989Z",
     "shell.execute_reply": "2022-06-02T13:59:16.568768Z",
     "shell.execute_reply.started": "2022-06-02T13:59:16.381824Z"
    },
    "papermill": {
     "duration": null,
     "end_time": null,
     "exception": null,
     "start_time": null,
     "status": "pending"
    },
    "tags": []
   },
   "outputs": [],
   "source": [
    "for col in columns_with_less_than_10_unique_values:\n",
    "    plt.figure(figsize=(8.8, 8.8))\n",
    "    sns.distplot(list(df[col]))\n",
    "    plt.show()"
   ]
  },
  {
   "cell_type": "code",
   "execution_count": null,
   "id": "36bcd427",
   "metadata": {
    "execution": {
     "iopub.execute_input": "2022-06-02T13:53:32.007932Z",
     "iopub.status.busy": "2022-06-02T13:53:32.007457Z",
     "iopub.status.idle": "2022-06-02T13:53:33.254817Z",
     "shell.execute_reply": "2022-06-02T13:53:33.254107Z",
     "shell.execute_reply.started": "2022-06-02T13:53:32.007895Z"
    },
    "papermill": {
     "duration": null,
     "end_time": null,
     "exception": null,
     "start_time": null,
     "status": "pending"
    },
    "tags": []
   },
   "outputs": [],
   "source": [
    "for col in columns_with_less_than_10_unique_values:\n",
    "    plt.figure(figsize=(8.8, 8.8))\n",
    "    sns.countplot(x=col, data=df, hue = 'Outlet_Size')\n",
    "    plt.show()"
   ]
  },
  {
   "cell_type": "code",
   "execution_count": null,
   "id": "15554ae3",
   "metadata": {
    "execution": {
     "iopub.execute_input": "2022-06-02T13:55:16.869400Z",
     "iopub.status.busy": "2022-06-02T13:55:16.868901Z",
     "iopub.status.idle": "2022-06-02T13:55:16.873659Z",
     "shell.execute_reply": "2022-06-02T13:55:16.872866Z",
     "shell.execute_reply.started": "2022-06-02T13:55:16.869365Z"
    },
    "papermill": {
     "duration": null,
     "end_time": null,
     "exception": null,
     "start_time": null,
     "status": "pending"
    },
    "tags": []
   },
   "outputs": [],
   "source": [
    "## Label Encoding\n",
    "from sklearn.preprocessing import LabelEncoder\n",
    "encoder = LabelEncoder()"
   ]
  },
  {
   "cell_type": "code",
   "execution_count": null,
   "id": "01152288",
   "metadata": {
    "execution": {
     "iopub.execute_input": "2022-06-02T13:59:52.878558Z",
     "iopub.status.busy": "2022-06-02T13:59:52.877731Z",
     "iopub.status.idle": "2022-06-02T13:59:52.913799Z",
     "shell.execute_reply": "2022-06-02T13:59:52.912880Z",
     "shell.execute_reply.started": "2022-06-02T13:59:52.878512Z"
    },
    "papermill": {
     "duration": null,
     "end_time": null,
     "exception": null,
     "start_time": null,
     "status": "pending"
    },
    "tags": []
   },
   "outputs": [],
   "source": [
    "df['Item_Identifier'] = encoder.fit_transform(df['Item_Identifier'])\n",
    "\n",
    "df['Item_Fat_Content'] = encoder.fit_transform(df['Item_Fat_Content'])\n",
    "\n",
    "df['Item_Type'] = encoder.fit_transform(df['Item_Type'])\n",
    "\n",
    "df['Outlet_Identifier'] = encoder.fit_transform(df['Outlet_Identifier'])\n",
    "\n",
    "df['Outlet_Size'] = encoder.fit_transform(df['Outlet_Size'])\n",
    "\n",
    "df['Outlet_Location_Type'] = encoder.fit_transform(df['Outlet_Location_Type'])\n",
    "\n",
    "df['Outlet_Type'] = encoder.fit_transform(df['Outlet_Type'])"
   ]
  },
  {
   "cell_type": "code",
   "execution_count": null,
   "id": "3f82fbaf",
   "metadata": {
    "execution": {
     "iopub.execute_input": "2022-06-02T14:00:01.824825Z",
     "iopub.status.busy": "2022-06-02T14:00:01.824418Z",
     "iopub.status.idle": "2022-06-02T14:00:01.844597Z",
     "shell.execute_reply": "2022-06-02T14:00:01.843538Z",
     "shell.execute_reply.started": "2022-06-02T14:00:01.824780Z"
    },
    "papermill": {
     "duration": null,
     "end_time": null,
     "exception": null,
     "start_time": null,
     "status": "pending"
    },
    "tags": []
   },
   "outputs": [],
   "source": [
    "df.head()"
   ]
  },
  {
   "cell_type": "code",
   "execution_count": null,
   "id": "89b22bff",
   "metadata": {
    "execution": {
     "iopub.execute_input": "2022-06-02T14:00:37.186716Z",
     "iopub.status.busy": "2022-06-02T14:00:37.186303Z",
     "iopub.status.idle": "2022-06-02T14:00:37.193834Z",
     "shell.execute_reply": "2022-06-02T14:00:37.192536Z",
     "shell.execute_reply.started": "2022-06-02T14:00:37.186684Z"
    },
    "papermill": {
     "duration": null,
     "end_time": null,
     "exception": null,
     "start_time": null,
     "status": "pending"
    },
    "tags": []
   },
   "outputs": [],
   "source": [
    "X = df.drop(columns='Item_Outlet_Sales', axis=1)\n",
    "y = df['Item_Outlet_Sales']"
   ]
  },
  {
   "cell_type": "code",
   "execution_count": null,
   "id": "5fc28c3f",
   "metadata": {
    "execution": {
     "iopub.execute_input": "2022-06-02T14:00:53.648695Z",
     "iopub.status.busy": "2022-06-02T14:00:53.648294Z",
     "iopub.status.idle": "2022-06-02T14:00:53.657057Z",
     "shell.execute_reply": "2022-06-02T14:00:53.656049Z",
     "shell.execute_reply.started": "2022-06-02T14:00:53.648663Z"
    },
    "papermill": {
     "duration": null,
     "end_time": null,
     "exception": null,
     "start_time": null,
     "status": "pending"
    },
    "tags": []
   },
   "outputs": [],
   "source": [
    "display(type(X), type(y))"
   ]
  },
  {
   "cell_type": "code",
   "execution_count": null,
   "id": "c07dffb0",
   "metadata": {
    "execution": {
     "iopub.execute_input": "2022-06-02T14:01:09.978105Z",
     "iopub.status.busy": "2022-06-02T14:01:09.977725Z",
     "iopub.status.idle": "2022-06-02T14:01:09.986850Z",
     "shell.execute_reply": "2022-06-02T14:01:09.985812Z",
     "shell.execute_reply.started": "2022-06-02T14:01:09.978074Z"
    },
    "papermill": {
     "duration": null,
     "end_time": null,
     "exception": null,
     "start_time": null,
     "status": "pending"
    },
    "tags": []
   },
   "outputs": [],
   "source": [
    "X_train, X_test, Y_train, Y_test = train_test_split(X, Y, test_size=0.2, random_state=2)"
   ]
  },
  {
   "cell_type": "code",
   "execution_count": null,
   "id": "5b3400c0",
   "metadata": {
    "execution": {
     "iopub.execute_input": "2022-06-02T14:01:19.821317Z",
     "iopub.status.busy": "2022-06-02T14:01:19.820734Z",
     "iopub.status.idle": "2022-06-02T14:01:19.828697Z",
     "shell.execute_reply": "2022-06-02T14:01:19.826517Z",
     "shell.execute_reply.started": "2022-06-02T14:01:19.821250Z"
    },
    "papermill": {
     "duration": null,
     "end_time": null,
     "exception": null,
     "start_time": null,
     "status": "pending"
    },
    "tags": []
   },
   "outputs": [],
   "source": [
    "print(X.shape, X_train.shape, X_test.shape)"
   ]
  },
  {
   "cell_type": "markdown",
   "id": "5591b99c",
   "metadata": {
    "papermill": {
     "duration": null,
     "end_time": null,
     "exception": null,
     "start_time": null,
     "status": "pending"
    },
    "tags": []
   },
   "source": [
    "#### Training the ML Model"
   ]
  },
  {
   "cell_type": "markdown",
   "id": "30fb159a",
   "metadata": {
    "papermill": {
     "duration": null,
     "end_time": null,
     "exception": null,
     "start_time": null,
     "status": "pending"
    },
    "tags": []
   },
   "source": [
    "XGBoost Regressor"
   ]
  },
  {
   "cell_type": "code",
   "execution_count": null,
   "id": "be701da0",
   "metadata": {
    "execution": {
     "iopub.execute_input": "2022-06-02T14:01:57.325808Z",
     "iopub.status.busy": "2022-06-02T14:01:57.325423Z",
     "iopub.status.idle": "2022-06-02T14:01:57.330390Z",
     "shell.execute_reply": "2022-06-02T14:01:57.329374Z",
     "shell.execute_reply.started": "2022-06-02T14:01:57.325778Z"
    },
    "papermill": {
     "duration": null,
     "end_time": null,
     "exception": null,
     "start_time": null,
     "status": "pending"
    },
    "tags": []
   },
   "outputs": [],
   "source": [
    "regressor = XGBRegressor()"
   ]
  },
  {
   "cell_type": "code",
   "execution_count": null,
   "id": "167a829c",
   "metadata": {
    "execution": {
     "iopub.execute_input": "2022-06-02T14:02:05.287759Z",
     "iopub.status.busy": "2022-06-02T14:02:05.287386Z",
     "iopub.status.idle": "2022-06-02T14:02:06.054940Z",
     "shell.execute_reply": "2022-06-02T14:02:06.054098Z",
     "shell.execute_reply.started": "2022-06-02T14:02:05.287728Z"
    },
    "papermill": {
     "duration": null,
     "end_time": null,
     "exception": null,
     "start_time": null,
     "status": "pending"
    },
    "tags": []
   },
   "outputs": [],
   "source": [
    "regressor.fit(X_train, Y_train)"
   ]
  },
  {
   "cell_type": "code",
   "execution_count": null,
   "id": "3f6f2a8e",
   "metadata": {
    "execution": {
     "iopub.execute_input": "2022-06-02T14:02:11.758151Z",
     "iopub.status.busy": "2022-06-02T14:02:11.757749Z",
     "iopub.status.idle": "2022-06-02T14:02:11.777632Z",
     "shell.execute_reply": "2022-06-02T14:02:11.776814Z",
     "shell.execute_reply.started": "2022-06-02T14:02:11.758117Z"
    },
    "papermill": {
     "duration": null,
     "end_time": null,
     "exception": null,
     "start_time": null,
     "status": "pending"
    },
    "tags": []
   },
   "outputs": [],
   "source": [
    "# prediction on training data\n",
    "training_data_prediction = regressor.predict(X_train)"
   ]
  },
  {
   "cell_type": "code",
   "execution_count": null,
   "id": "ef7529a9",
   "metadata": {
    "execution": {
     "iopub.execute_input": "2022-06-02T14:02:17.492261Z",
     "iopub.status.busy": "2022-06-02T14:02:17.491875Z",
     "iopub.status.idle": "2022-06-02T14:02:17.497291Z",
     "shell.execute_reply": "2022-06-02T14:02:17.496203Z",
     "shell.execute_reply.started": "2022-06-02T14:02:17.492228Z"
    },
    "papermill": {
     "duration": null,
     "end_time": null,
     "exception": null,
     "start_time": null,
     "status": "pending"
    },
    "tags": []
   },
   "outputs": [],
   "source": [
    "# R squared Value\n",
    "r2_train = metrics.r2_score(Y_train, training_data_prediction)"
   ]
  },
  {
   "cell_type": "code",
   "execution_count": null,
   "id": "ab13ddbd",
   "metadata": {
    "execution": {
     "iopub.execute_input": "2022-06-02T14:02:23.663859Z",
     "iopub.status.busy": "2022-06-02T14:02:23.663490Z",
     "iopub.status.idle": "2022-06-02T14:02:23.668041Z",
     "shell.execute_reply": "2022-06-02T14:02:23.667302Z",
     "shell.execute_reply.started": "2022-06-02T14:02:23.663829Z"
    },
    "papermill": {
     "duration": null,
     "end_time": null,
     "exception": null,
     "start_time": null,
     "status": "pending"
    },
    "tags": []
   },
   "outputs": [],
   "source": [
    "print('R Squared value = ', r2_train)"
   ]
  },
  {
   "cell_type": "code",
   "execution_count": null,
   "id": "2ab328e6",
   "metadata": {
    "execution": {
     "iopub.execute_input": "2022-06-02T14:02:30.156704Z",
     "iopub.status.busy": "2022-06-02T14:02:30.156305Z",
     "iopub.status.idle": "2022-06-02T14:02:30.167941Z",
     "shell.execute_reply": "2022-06-02T14:02:30.167148Z",
     "shell.execute_reply.started": "2022-06-02T14:02:30.156656Z"
    },
    "papermill": {
     "duration": null,
     "end_time": null,
     "exception": null,
     "start_time": null,
     "status": "pending"
    },
    "tags": []
   },
   "outputs": [],
   "source": [
    "# prediction on test data\n",
    "test_data_prediction = regressor.predict(X_test)"
   ]
  },
  {
   "cell_type": "code",
   "execution_count": null,
   "id": "fb4dbee4",
   "metadata": {
    "execution": {
     "iopub.execute_input": "2022-06-02T14:02:39.691182Z",
     "iopub.status.busy": "2022-06-02T14:02:39.690770Z",
     "iopub.status.idle": "2022-06-02T14:02:39.696746Z",
     "shell.execute_reply": "2022-06-02T14:02:39.695730Z",
     "shell.execute_reply.started": "2022-06-02T14:02:39.691148Z"
    },
    "papermill": {
     "duration": null,
     "end_time": null,
     "exception": null,
     "start_time": null,
     "status": "pending"
    },
    "tags": []
   },
   "outputs": [],
   "source": [
    "# R squared Value\n",
    "r2_test = metrics.r2_score(Y_test, test_data_prediction)"
   ]
  },
  {
   "cell_type": "code",
   "execution_count": null,
   "id": "8165f22b",
   "metadata": {
    "execution": {
     "iopub.execute_input": "2022-06-02T14:02:47.420636Z",
     "iopub.status.busy": "2022-06-02T14:02:47.419428Z",
     "iopub.status.idle": "2022-06-02T14:02:47.425373Z",
     "shell.execute_reply": "2022-06-02T14:02:47.424589Z",
     "shell.execute_reply.started": "2022-06-02T14:02:47.420592Z"
    },
    "papermill": {
     "duration": null,
     "end_time": null,
     "exception": null,
     "start_time": null,
     "status": "pending"
    },
    "tags": []
   },
   "outputs": [],
   "source": [
    "print('R Squared value = ', r2_test)"
   ]
  }
 ],
 "metadata": {
  "kernelspec": {
   "display_name": "Python 3",
   "language": "python",
   "name": "python3"
  },
  "language_info": {
   "codemirror_mode": {
    "name": "ipython",
    "version": 3
   },
   "file_extension": ".py",
   "mimetype": "text/x-python",
   "name": "python",
   "nbconvert_exporter": "python",
   "pygments_lexer": "ipython3",
   "version": "3.7.12"
  },
  "papermill": {
   "default_parameters": {},
   "duration": 17.538701,
   "end_time": "2022-06-02T14:04:42.122174",
   "environment_variables": {},
   "exception": true,
   "input_path": "__notebook__.ipynb",
   "output_path": "__notebook__.ipynb",
   "parameters": {},
   "start_time": "2022-06-02T14:04:24.583473",
   "version": "2.3.4"
  }
 },
 "nbformat": 4,
 "nbformat_minor": 5
}
